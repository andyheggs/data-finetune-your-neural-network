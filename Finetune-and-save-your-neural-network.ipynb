{
 "cells": [
  {
   "cell_type": "markdown",
   "metadata": {},
   "source": [
    "## Imports"
   ]
  },
  {
   "cell_type": "code",
   "execution_count": 1,
   "metadata": {},
   "outputs": [
    {
     "name": "stderr",
     "output_type": "stream",
     "text": [
      "2025-03-04 14:21:16.710290: I tensorflow/core/platform/cpu_feature_guard.cc:193] This TensorFlow binary is optimized with oneAPI Deep Neural Network Library (oneDNN) to use the following CPU instructions in performance-critical operations:  AVX2 FMA\n",
      "To enable them in other operations, rebuild TensorFlow with the appropriate compiler flags.\n"
     ]
    }
   ],
   "source": [
    "# Data manipulation\n",
    "import time\n",
    "import numpy as np\n",
    "import pandas as pd\n",
    "\n",
    "# Data Visualization\n",
    "import matplotlib.pyplot as plt\n",
    "import seaborn as sns\n",
    "%matplotlib inline\n",
    "\n",
    "from sklearn.preprocessing import StandardScaler\n",
    "\n",
    "# KERAS\n",
    "from tensorflow.keras import models, layers\n",
    "from tensorflow.keras.callbacks import EarlyStopping\n",
    "from tensorflow.keras.datasets import boston_housing\n",
    "from tensorflow.keras.optimizers import Adam\n",
    "from tensorflow.keras.optimizers.schedules import ExponentialDecay"
   ]
  },
  {
   "cell_type": "markdown",
   "metadata": {},
   "source": [
    "# Fine-Tune your Neural Network and Save it\n",
    "\n",
    "🎯 **Goals of this challenge**\n",
    "\n",
    "1. ⚙️ **Fine-tune the optimizer** of a Neural Network\n",
    "2. 💾 **Save**/**Load** a trained Neural Network\n",
    "\n",
    "👩🏻‍🏫 Now that you have solid foundations about what Neural Networks are, how to design their architecture, and how to prevent them from overfitting, let's take a closer look at the `.compile(loss = ?, metrics = ?, activation = ?)` part."
   ]
  },
  {
   "cell_type": "markdown",
   "metadata": {},
   "source": [
    "## (0) The Boston Housing Dataset\n",
    "\n",
    "📚 `Tensorflow.Keras` has several built-in datasets that you can find [here](https://www.tensorflow.org/api_docs/python/tf/keras/datasets)\n",
    "\n",
    "🏠 Out of those, we are going to use the **Boston Housing Dataset**.\n",
    "\n",
    "Our mission is to **predict the values of the houses in USD (thousands)**, and we will measure the performance of our models using the _Mean Absolute Error (MAE)_ metric."
   ]
  },
  {
   "cell_type": "markdown",
   "metadata": {},
   "source": [
    "### (0.1) Loading the Dataset"
   ]
  },
  {
   "cell_type": "code",
   "execution_count": 2,
   "metadata": {},
   "outputs": [
    {
     "name": "stdout",
     "output_type": "stream",
     "text": [
      "Downloading data from https://storage.googleapis.com/tensorflow/tf-keras-datasets/boston_housing.npz\n",
      "57026/57026 [==============================] - 0s 2us/step\n"
     ]
    }
   ],
   "source": [
    "# Loading the dataset:\n",
    "(X_train, y_train), (X_test, y_test) = boston_housing.load_data()"
   ]
  },
  {
   "cell_type": "code",
   "execution_count": 3,
   "metadata": {},
   "outputs": [
    {
     "data": {
      "text/plain": [
       "(((404, 13), (404,)), ((102, 13), (102,)))"
      ]
     },
     "execution_count": 3,
     "metadata": {},
     "output_type": "execute_result"
    }
   ],
   "source": [
    "# Shape of the dataset: \n",
    "(X_train.shape, y_train.shape), (X_test.shape, y_test.shape)"
   ]
  },
  {
   "cell_type": "markdown",
   "metadata": {},
   "source": [
    "### (0.2) Quick Glance at the Target"
   ]
  },
  {
   "cell_type": "code",
   "execution_count": 4,
   "metadata": {},
   "outputs": [
    {
     "data": {
      "text/plain": [
       "<AxesSubplot:ylabel='Count'>"
      ]
     },
     "execution_count": 4,
     "metadata": {},
     "output_type": "execute_result"
    },
    {
     "data": {
      "image/png": "[encoded data removed]",
      "text/plain": [
       "<Figure size 640x480 with 1 Axes>"
      ]
     },
     "metadata": {},
     "output_type": "display_data"
    }
   ],
   "source": [
    "# Distribution of the houses' prices in the training set\n",
    "sns.histplot(y_train)"
   ]
  },
  {
   "cell_type": "code",
   "execution_count": 5,
   "metadata": {},
   "outputs": [
    {
     "name": "stdout",
     "output_type": "stream",
     "text": [
      "<class 'pandas.core.frame.DataFrame'>\n",
      "RangeIndex: 404 entries, 0 to 403\n",
      "Data columns (total 13 columns):\n",
      " #   Column  Non-Null Count  Dtype  \n",
      "---  ------  --------------  -----  \n",
      " 0   0       404 non-null    float64\n",
      " 1   1       404 non-null    float64\n",
      " 2   2       404 non-null    float64\n",
      " 3   3       404 non-null    float64\n",
      " 4   4       404 non-null    float64\n",
      " 5   5       404 non-null    float64\n",
      " 6   6       404 non-null    float64\n",
      " 7   7       404 non-null    float64\n",
      " 8   8       404 non-null    float64\n",
      " 9   9       404 non-null    float64\n",
      " 10  10      404 non-null    float64\n",
      " 11  11      404 non-null    float64\n",
      " 12  12      404 non-null    float64\n",
      "dtypes: float64(13)\n",
      "memory usage: 41.2 KB\n"
     ]
    }
   ],
   "source": [
    "# Null values and types of each feature:\n",
    "pd.DataFrame(X_train).info()"
   ]
  },
  {
   "cell_type": "code",
   "execution_count": 6,
   "metadata": {},
   "outputs": [
    {
     "data": {
      "text/html": [
       "<div>\n",
       "<style scoped>\n",
       "    .dataframe tbody tr th:only-of-type {\n",
       "        vertical-align: middle;\n",
       "    }\n",
       "\n",
       "    .dataframe tbody tr th {\n",
       "        vertical-align: top;\n",
       "    }\n",
       "\n",
       "    .dataframe thead th {\n",
       "        text-align: right;\n",
       "    }\n",
       "</style>\n",
       "<table border=\"1\" class=\"dataframe\">\n",
       "  <thead>\n",
       "    <tr style=\"text-align: right;\">\n",
       "      <th></th>\n",
       "      <th>0</th>\n",
       "      <th>1</th>\n",
       "      <th>2</th>\n",
       "      <th>3</th>\n",
       "      <th>4</th>\n",
       "      <th>5</th>\n",
       "      <th>6</th>\n",
       "      <th>7</th>\n",
       "      <th>8</th>\n",
       "      <th>9</th>\n",
       "      <th>10</th>\n",
       "      <th>11</th>\n",
       "      <th>12</th>\n",
       "    </tr>\n",
       "  </thead>\n",
       "  <tbody>\n",
       "    <tr>\n",
       "      <th>count</th>\n",
       "      <td>404.000000</td>\n",
       "      <td>404.000000</td>\n",
       "      <td>404.000000</td>\n",
       "      <td>404.000000</td>\n",
       "      <td>404.000000</td>\n",
       "      <td>404.000000</td>\n",
       "      <td>404.000000</td>\n",
       "      <td>404.000000</td>\n",
       "      <td>404.000000</td>\n",
       "      <td>404.000000</td>\n",
       "      <td>404.000000</td>\n",
       "      <td>404.000000</td>\n",
       "      <td>404.000000</td>\n",
       "    </tr>\n",
       "    <tr>\n",
       "      <th>mean</th>\n",
       "      <td>3.745111</td>\n",
       "      <td>11.480198</td>\n",
       "      <td>11.104431</td>\n",
       "      <td>0.061881</td>\n",
       "      <td>0.557356</td>\n",
       "      <td>6.267082</td>\n",
       "      <td>69.010644</td>\n",
       "      <td>3.740271</td>\n",
       "      <td>9.440594</td>\n",
       "      <td>405.898515</td>\n",
       "      <td>18.475990</td>\n",
       "      <td>354.783168</td>\n",
       "      <td>12.740817</td>\n",
       "    </tr>\n",
       "    <tr>\n",
       "      <th>std</th>\n",
       "      <td>9.240734</td>\n",
       "      <td>23.767711</td>\n",
       "      <td>6.811308</td>\n",
       "      <td>0.241238</td>\n",
       "      <td>0.117293</td>\n",
       "      <td>0.709788</td>\n",
       "      <td>27.940665</td>\n",
       "      <td>2.030215</td>\n",
       "      <td>8.698360</td>\n",
       "      <td>166.374543</td>\n",
       "      <td>2.200382</td>\n",
       "      <td>94.111148</td>\n",
       "      <td>7.254545</td>\n",
       "    </tr>\n",
       "    <tr>\n",
       "      <th>min</th>\n",
       "      <td>0.006320</td>\n",
       "      <td>0.000000</td>\n",
       "      <td>0.460000</td>\n",
       "      <td>0.000000</td>\n",
       "      <td>0.385000</td>\n",
       "      <td>3.561000</td>\n",
       "      <td>2.900000</td>\n",
       "      <td>1.129600</td>\n",
       "      <td>1.000000</td>\n",
       "      <td>188.000000</td>\n",
       "      <td>12.600000</td>\n",
       "      <td>0.320000</td>\n",
       "      <td>1.730000</td>\n",
       "    </tr>\n",
       "    <tr>\n",
       "      <th>25%</th>\n",
       "      <td>0.081437</td>\n",
       "      <td>0.000000</td>\n",
       "      <td>5.130000</td>\n",
       "      <td>0.000000</td>\n",
       "      <td>0.453000</td>\n",
       "      <td>5.874750</td>\n",
       "      <td>45.475000</td>\n",
       "      <td>2.077100</td>\n",
       "      <td>4.000000</td>\n",
       "      <td>279.000000</td>\n",
       "      <td>17.225000</td>\n",
       "      <td>374.672500</td>\n",
       "      <td>6.890000</td>\n",
       "    </tr>\n",
       "    <tr>\n",
       "      <th>50%</th>\n",
       "      <td>0.268880</td>\n",
       "      <td>0.000000</td>\n",
       "      <td>9.690000</td>\n",
       "      <td>0.000000</td>\n",
       "      <td>0.538000</td>\n",
       "      <td>6.198500</td>\n",
       "      <td>78.500000</td>\n",
       "      <td>3.142300</td>\n",
       "      <td>5.000000</td>\n",
       "      <td>330.000000</td>\n",
       "      <td>19.100000</td>\n",
       "      <td>391.250000</td>\n",
       "      <td>11.395000</td>\n",
       "    </tr>\n",
       "    <tr>\n",
       "      <th>75%</th>\n",
       "      <td>3.674808</td>\n",
       "      <td>12.500000</td>\n",
       "      <td>18.100000</td>\n",
       "      <td>0.000000</td>\n",
       "      <td>0.631000</td>\n",
       "      <td>6.609000</td>\n",
       "      <td>94.100000</td>\n",
       "      <td>5.118000</td>\n",
       "      <td>24.000000</td>\n",
       "      <td>666.000000</td>\n",
       "      <td>20.200000</td>\n",
       "      <td>396.157500</td>\n",
       "      <td>17.092500</td>\n",
       "    </tr>\n",
       "    <tr>\n",
       "      <th>max</th>\n",
       "      <td>88.976200</td>\n",
       "      <td>100.000000</td>\n",
       "      <td>27.740000</td>\n",
       "      <td>1.000000</td>\n",
       "      <td>0.871000</td>\n",
       "      <td>8.725000</td>\n",
       "      <td>100.000000</td>\n",
       "      <td>10.710300</td>\n",
       "      <td>24.000000</td>\n",
       "      <td>711.000000</td>\n",
       "      <td>22.000000</td>\n",
       "      <td>396.900000</td>\n",
       "      <td>37.970000</td>\n",
       "    </tr>\n",
       "  </tbody>\n",
       "</table>\n",
       "</div>"
      ],
      "text/plain": [
       "               0           1           2           3           4           5   \\\n",
       "count  404.000000  404.000000  404.000000  404.000000  404.000000  404.000000   \n",
       "mean     3.745111   11.480198   11.104431    0.061881    0.557356    6.267082   \n",
       "std      9.240734   23.767711    6.811308    0.241238    0.117293    0.709788   \n",
       "min      0.006320    0.000000    0.460000    0.000000    0.385000    3.561000   \n",
       "25%      0.081437    0.000000    5.130000    0.000000    0.453000    5.874750   \n",
       "50%      0.268880    0.000000    9.690000    0.000000    0.538000    6.198500   \n",
       "75%      3.674808   12.500000   18.100000    0.000000    0.631000    6.609000   \n",
       "max     88.976200  100.000000   27.740000    1.000000    0.871000    8.725000   \n",
       "\n",
       "               6           7           8           9           10          11  \\\n",
       "count  404.000000  404.000000  404.000000  404.000000  404.000000  404.000000   \n",
       "mean    69.010644    3.740271    9.440594  405.898515   18.475990  354.783168   \n",
       "std     27.940665    2.030215    8.698360  166.374543    2.200382   94.111148   \n",
       "min      2.900000    1.129600    1.000000  188.000000   12.600000    0.320000   \n",
       "25%     45.475000    2.077100    4.000000  279.000000   17.225000  374.672500   \n",
       "50%     78.500000    3.142300    5.000000  330.000000   19.100000  391.250000   \n",
       "75%     94.100000    5.118000   24.000000  666.000000   20.200000  396.157500   \n",
       "max    100.000000   10.710300   24.000000  711.000000   22.000000  396.900000   \n",
       "\n",
       "               12  \n",
       "count  404.000000  \n",
       "mean    12.740817  \n",
       "std      7.254545  \n",
       "min      1.730000  \n",
       "25%      6.890000  \n",
       "50%     11.395000  \n",
       "75%     17.092500  \n",
       "max     37.970000  "
      ]
     },
     "execution_count": 6,
     "metadata": {},
     "output_type": "execute_result"
    }
   ],
   "source": [
    "# Statistics about the numerical columns\n",
    "pd.DataFrame(X_train).describe()"
   ]
  },
  {
   "cell_type": "markdown",
   "metadata": {},
   "source": [
    "### (0.3) Minimal Data Preprocessing\n",
    "\n",
    "👉 Here, we don't have any duplicates or missing values. Let's do the bare minimum of data preprocessing, i.e. **scaling**, and move on quickly to the modeling phase."
   ]
  },
  {
   "cell_type": "markdown",
   "metadata": {},
   "source": [
    "#### ❓Scaling your Features\n",
    "\n",
    "Standardize `X_train` and `X_test`."
   ]
  },
  {
   "cell_type": "code",
   "execution_count": 7,
   "metadata": {
    "tags": [
     "challengify"
    ]
   },
   "outputs": [],
   "source": [
    "# Scale features using StandardScaler\n",
    "scaler = StandardScaler()\n",
    "X_train_scaled = scaler.fit_transform(X_train)\n",
    "X_test_scaled = scaler.transform(X_test)"
   ]
  },
  {
   "cell_type": "markdown",
   "metadata": {},
   "source": [
    "### (0.4) Baseline Model\n",
    "\n",
    "🧑🏻‍🏫 In a regression task, the baseline model **always predicts the average value of `y_train`**\n",
    "\n",
    "<details>\n",
    "    <summary>Really?</summary>\n",
    "    \n",
    "- 🐒  Yes, in most cases!\n",
    "- ❗️  Be aware that this is not the only possible way of building a baseline model\n",
    "- 💹  In Time Series, the baseline model predicts the **last seen value**"
   ]
  },
  {
   "cell_type": "markdown",
   "metadata": {},
   "source": [
    "#### ❓Question: what would be the performance of the baseline model here?\n",
    "\n",
    "Before running any Machine Learning algorithm or advanced Deep Learning Neural Networks, it would be great to establish a benchmark score that you are supposed to beat. Otherwise, what is the point of running a fancy algorithm if you cannot beat this benchmark score on the testing set (other than showing off)?\n",
    "\n",
    "Compute the Mean Absolute Error on the testing set using a \"dumb\" prediction of the mean value of `y_train`, computed on the training set."
   ]
  },
  {
   "cell_type": "code",
   "execution_count": 8,
   "metadata": {
    "tags": [
     "challengify"
    ]
   },
   "outputs": [
    {
     "name": "stdout",
     "output_type": "stream",
     "text": [
      "Baseline MAE on test set: 6.53\n"
     ]
    }
   ],
   "source": [
    "# Baseline model: predict the mean of y_train for all test samples\n",
    "y_pred_baseline = np.full(shape=y_test.shape, fill_value=y_train.mean())\n",
    "\n",
    "# Compute the Mean Absolute Error (MAE)\n",
    "from sklearn.metrics import mean_absolute_error\n",
    "mae_test_baseline = mean_absolute_error(y_test, y_pred_baseline)\n",
    "\n",
    "print(f\"Baseline MAE on test set: {mae_test_baseline:.2f}\")"
   ]
  },
  {
   "cell_type": "markdown",
   "metadata": {},
   "source": [
    "## (1) The Neural Network"
   ]
  },
  {
   "cell_type": "markdown",
   "metadata": {},
   "source": [
    "### ❓Initializing a Neural Network with a Specific Architecture\n",
    "\n",
    "Write a function called `initialize_model` that generates a Neural Network with 3 layers:\n",
    "- Input layer: **10 neurons**, `relu` activation function, and the appropriate input dimension\n",
    "- Hidden layer: **7 neurons** and the `relu` activation function\n",
    "- Predictive layer: an appropriate layer corresponding to the problem we are trying to solve"
   ]
  },
  {
   "cell_type": "code",
   "execution_count": 9,
   "metadata": {},
   "outputs": [],
   "source": [
    "def initialize_model():\n",
    "    model = models.Sequential()\n",
    "    # Input layer: 10 neurons, ReLU\n",
    "    model.add(layers.Dense(10, activation='relu', input_dim=13))\n",
    "    # Hidden layer: 7 neurons, ReLU\n",
    "    model.add(layers.Dense(7, activation='relu'))\n",
    "    # Output layer: 1 neuron, linear activation (for regression)\n",
    "    model.add(layers.Dense(1, activation='linear'))\n",
    "    return model"
   ]
  },
  {
   "cell_type": "markdown",
   "metadata": {},
   "source": [
    "#### ❓Number of Parameters\n",
    "\n",
    "How many parameters do we have in this model? \n",
    "1. Compute this number yourself\n",
    "2. Double-check your answer with `model.summary()`\n",
    "\n",
    "We already covered the question about the number of parameters in a fully connected/dense network during **Deep Learning > 01. Fundamentals of Deep Learning** but it is always good to make sure you master the foundations of a new discipline 😉"
   ]
  },
  {
   "cell_type": "markdown",
   "metadata": {},
   "source": [
    "Input layer (10 neurons): (13 + 1) × 10 = 140 parameters\n",
    "Hidden layer (7 neurons):(10 + 1) × 7 = 77 parameters\n",
    "Output layer (1 neuron): (7 + 1 ) × 1 = 8 parameters\n",
    "Total = 140 + 77 + 8 = 225 parameters"
   ]
  },
  {
   "cell_type": "code",
   "execution_count": 10,
   "metadata": {},
   "outputs": [
    {
     "name": "stderr",
     "output_type": "stream",
     "text": [
      "2025-03-04 14:38:02.531913: I tensorflow/core/platform/cpu_feature_guard.cc:193] This TensorFlow binary is optimized with oneAPI Deep Neural Network Library (oneDNN) to use the following CPU instructions in performance-critical operations:  AVX2 FMA\n",
      "To enable them in other operations, rebuild TensorFlow with the appropriate compiler flags.\n"
     ]
    },
    {
     "name": "stdout",
     "output_type": "stream",
     "text": [
      "Model: \"sequential\"\n",
      "_________________________________________________________________\n",
      " Layer (type)                Output Shape              Param #   \n",
      "=================================================================\n",
      " dense (Dense)               (None, 10)                140       \n",
      "                                                                 \n",
      " dense_1 (Dense)             (None, 7)                 77        \n",
      "                                                                 \n",
      " dense_2 (Dense)             (None, 1)                 8         \n",
      "                                                                 \n",
      "=================================================================\n",
      "Total params: 225\n",
      "Trainable params: 225\n",
      "Non-trainable params: 0\n",
      "_________________________________________________________________\n"
     ]
    }
   ],
   "source": [
    "model_test = initialize_model()\n",
    "model_test.summary()"
   ]
  },
  {
   "cell_type": "markdown",
   "metadata": {},
   "source": [
    "##### 💡Answer\n",
    "\n",
    "<details>\n",
    "    <summary>Click here</summary>\n",
    "\n",
    "- Each house has `X_train.shape[-1]` = 13 features\n",
    "- Remember that a neuron is a linear regression combined with an activation function, so we will have 13 weights and 1 bias\n",
    "\n",
    "1. First layer: **10 neurons** $\\times$ (13 weights + 1 bias ) = 140 params\n",
    "2. Second layer: **7 neurons** $\\times$ (10 weights + 1 bias ) = 77 params\n",
    "3. Third layer: **1 neuron** $\\times$ (7 weights + 1 bias) = 8 params\n",
    "</details>"
   ]
  },
  {
   "cell_type": "markdown",
   "metadata": {},
   "source": [
    "## (2) The Optimizer"
   ]
  },
  {
   "cell_type": "markdown",
   "metadata": {},
   "source": [
    "### ❓Compiling Method\n",
    "\n",
    "Write a function that:\n",
    "1. takes _both_ a **model** and an **optimizer** as arguments\n",
    "2. **compiles** the model\n",
    "3. returns the compiled model\n",
    "\n",
    "Please select wisely:\n",
    "- the **Loss Function** to be optimized\n",
    "- the **metrics** on which the model should be evaluated"
   ]
  },
  {
   "cell_type": "code",
   "execution_count": 31,
   "metadata": {},
   "outputs": [],
   "source": [
    "def compile_model(model, optimizer_name):\n",
    "    \"\"\"\n",
    "    Compile the given model with the specified optimiser.\n",
    "    For regression tasks, we'll use MAE as a metric.\n",
    "    \"\"\"\n",
    "    model.compile(\n",
    "        loss='mse',            # or 'mae'\n",
    "        optimizer=optimizer_name,\n",
    "        metrics=['mae']        # track mean absolute error\n",
    "    )\n",
    "    return model"
   ]
  },
  {
   "cell_type": "markdown",
   "metadata": {},
   "source": [
    "### ❓Evaluating the Model\n",
    "\n",
    "- Initialize the model and compile it with the `adam` optimizer\n",
    "- Fit it on the training data\n",
    "- Evaluate your model on the testing data\n",
    "\n",
    "Don't forget to use an Early Stopping criterion to avoid overfitting!\n",
    "\n",
    "<details>\n",
    "    <summary>Notes</summary>\n",
    "\n",
    "As we saw in the **\"How to prevent overfitting\"** challenge,  you could also use L2 penalties and Dropout Layers to prevent overfitting but:\n",
    "- Early Stopping is the easiest and quickest code to implement, you just declare `es = EarlyStopping()` and call it back in the `.fit()` step\n",
    "- The main goal of this challenge is to understand the **impact of the optimizer**, so stay focused 😉\n",
    "</details>"
   ]
  },
  {
   "cell_type": "code",
   "execution_count": 32,
   "metadata": {
    "tags": [
     "challengify"
    ]
   },
   "outputs": [
    {
     "name": "stdout",
     "output_type": "stream",
     "text": [
      "4/4 [==============================] - 0s 3ms/step\n"
     ]
    }
   ],
   "source": [
    "from tensorflow.keras.callbacks import EarlyStopping\n",
    "\n",
    "# 1. Initialise the model\n",
    "model = initialize_model()\n",
    "\n",
    "# 2. Compile the model with the 'adam' optimiser\n",
    "model = compile_model(model, 'adam')\n",
    "\n",
    "# 3. Fit with Early Stopping\n",
    "es = EarlyStopping(patience=20, restore_best_weights=True)\n",
    "history = model.fit(\n",
    "    X_train_scaled,\n",
    "    y_train,\n",
    "    validation_split=0.3,\n",
    "    epochs=1000,\n",
    "    batch_size=16,\n",
    "    callbacks=[es],\n",
    "    verbose=0\n",
    ")\n",
    "\n",
    "# 4. Evaluate on the testing data\n",
    "from sklearn.metrics import mean_absolute_error\n",
    "y_pred_test = model.predict(X_test_scaled)\n",
    "mae_test_neuralnet = mean_absolute_error(y_test, y_pred_test)"
   ]
  },
  {
   "cell_type": "markdown",
   "metadata": {},
   "source": [
    "### Neural Network vs. Baseline\n",
    "\n",
    "Compare the MAE on the testing set between this Neural Network and the baseline model."
   ]
  },
  {
   "cell_type": "code",
   "execution_count": 33,
   "metadata": {},
   "outputs": [
    {
     "name": "stdout",
     "output_type": "stream",
     "text": [
      "Neural Network MAE on test set: 2.81\n",
      "Baseline MAE on test set:        6.53\n"
     ]
    }
   ],
   "source": [
    "print(f\"Neural Network MAE on test set: {mae_test_neuralnet:.2f}\")\n",
    "print(f\"Baseline MAE on test set:        {mae_test_baseline:.2f}\")"
   ]
  },
  {
   "cell_type": "markdown",
   "metadata": {},
   "source": [
    "### (2.1) Which Optimizer is the Best? "
   ]
  },
  {
   "cell_type": "markdown",
   "metadata": {},
   "source": [
    "#### ❓Trying Different Optimizers\n",
    "\n",
    "Re-run the same model on the same data using different optimizers (in a `for` loop). \n",
    "\n",
    "For each optimizer:\n",
    "- 📉 Plot the history of the loss (MSE) and the metric (MAE)\n",
    "    - 🎁 We coded two functions: `plot_loss_mae` and `plot_loss_mse`. Which one should you use? Feel free to use it.\n",
    "- ✍️ Report the corresponding Mean Absolute Error\n",
    "- ⏳ Compute the time your Neural Net needed to fit the training set\n",
    "\n",
    "📚 [`tensorflow.keras.optimizers`](https://www.tensorflow.org/api_docs/python/tf/keras/optimizers)"
   ]
  },
  {
   "cell_type": "code",
   "execution_count": 43,
   "metadata": {},
   "outputs": [
    {
     "name": "stdout",
     "output_type": "stream",
     "text": [
      "4/4 [==============================] - 0s 4ms/step\n"
     ]
    },
    {
     "ename": "KeyError",
     "evalue": "'mse'",
     "output_type": "error",
     "traceback": [
      "\u001b[0;31m---------------------------------------------------------------------------\u001b[0m",
      "\u001b[0;31mKeyError\u001b[0m                                  Traceback (most recent call last)",
      "Cell \u001b[0;32mIn [43], line 32\u001b[0m\n\u001b[1;32m     28\u001b[0m results\u001b[38;5;241m.\u001b[39mappend(mae_test_opt)\n\u001b[1;32m     30\u001b[0m \u001b[38;5;66;03m# 6. Plot if desired\u001b[39;00m\n\u001b[1;32m     31\u001b[0m \u001b[38;5;66;03m#plot_loss_mae(history_opt)  \u001b[39;00m\n\u001b[0;32m---> 32\u001b[0m \u001b[43mplot_loss_mse\u001b[49m\u001b[43m(\u001b[49m\u001b[43mhistory_opt\u001b[49m\u001b[43m)\u001b[49m\n",
      "Cell \u001b[0;32mIn [36], line 9\u001b[0m, in \u001b[0;36mplot_loss_mse\u001b[0;34m(history)\u001b[0m\n\u001b[1;32m      6\u001b[0m ax1\u001b[38;5;241m.\u001b[39mplot(history\u001b[38;5;241m.\u001b[39mhistory[\u001b[38;5;124m'\u001b[39m\u001b[38;5;124mloss\u001b[39m\u001b[38;5;124m'\u001b[39m])\n\u001b[1;32m      7\u001b[0m ax1\u001b[38;5;241m.\u001b[39mplot(history\u001b[38;5;241m.\u001b[39mhistory[\u001b[38;5;124m'\u001b[39m\u001b[38;5;124mval_loss\u001b[39m\u001b[38;5;124m'\u001b[39m])\n\u001b[0;32m----> 9\u001b[0m ax2\u001b[38;5;241m.\u001b[39mplot(\u001b[43mhistory\u001b[49m\u001b[38;5;241;43m.\u001b[39;49m\u001b[43mhistory\u001b[49m\u001b[43m[\u001b[49m\u001b[38;5;124;43m'\u001b[39;49m\u001b[38;5;124;43mmse\u001b[39;49m\u001b[38;5;124;43m'\u001b[39;49m\u001b[43m]\u001b[49m)\n\u001b[1;32m     10\u001b[0m ax2\u001b[38;5;241m.\u001b[39mplot(history\u001b[38;5;241m.\u001b[39mhistory[\u001b[38;5;124m'\u001b[39m\u001b[38;5;124mval_mse\u001b[39m\u001b[38;5;124m'\u001b[39m])\n\u001b[1;32m     12\u001b[0m \u001b[38;5;66;03m# Set titles and labels\u001b[39;00m\n",
      "\u001b[0;31mKeyError\u001b[0m: 'mse'"
     ]
    },
    {
     "data": {
      "image/png": "[encoded data removed]",
      "text/plain": [
       "<Figure size 1300x400 with 2 Axes>"
      ]
     },
     "metadata": {},
     "output_type": "display_data"
    }
   ],
   "source": [
    "optimisers = ['rmsprop', 'adam', 'adagrad']\n",
    "results = []\n",
    "\n",
    "for opt_name in optimisers:\n",
    "    start_time = time.time()\n",
    "    \n",
    "    # 1. Initialise\n",
    "    model_opt = initialize_model()\n",
    "    # 2. Compile\n",
    "    model_opt = compile_model(model_opt, opt_name)\n",
    "    # 3. Train\n",
    "    es = EarlyStopping(patience=20, restore_best_weights=True)\n",
    "    history_opt = model_opt.fit(\n",
    "        X_train_scaled,\n",
    "        y_train,\n",
    "        validation_split=0.3,\n",
    "        epochs=1000,\n",
    "        batch_size=16,\n",
    "        callbacks=[es],\n",
    "        verbose=0\n",
    "    )\n",
    "    # 4. Evaluate\n",
    "    y_pred_test_opt = model_opt.predict(X_test_scaled)\n",
    "    mae_test_opt = mean_absolute_error(y_test, y_pred_test_opt)\n",
    "    training_time = time.time() - start_time\n",
    "    \n",
    "    # 5. Store results\n",
    "    results.append(mae_test_opt)\n",
    "    \n",
    "    # 6. Plot if desired\n",
    "    #plot_loss_mae(history_opt)  \n",
    "    plot_loss_mse(history_opt)  \n",
    "    "
   ]
  },
  {
   "cell_type": "code",
   "execution_count": 40,
   "metadata": {},
   "outputs": [
    {
     "data": {
      "image/png": "[encoded data removed]",
      "text/plain": [
       "<Figure size 1300x400 with 2 Axes>"
      ]
     },
     "metadata": {},
     "output_type": "display_data"
    }
   ],
   "source": [
    "    # Setting figures\n",
    "    fig, (ax1, ax2) = plt.subplots(1, 2, figsize=(13,4))\n",
    "\n",
    "    # Create the plots\n",
    "    ax1.plot(history.history['loss'])\n",
    "    ax1.plot(history.history['val_loss'])\n",
    "\n",
    "    ax2.plot(history.history['mae'])\n",
    "    ax2.plot(history.history['val_mae'])\n",
    "\n",
    "    # Set titles and labels\n",
    "    ax1.set_title('Model loss')\n",
    "    ax1.set_ylabel('Loss')\n",
    "    ax1.set_xlabel('Epoch')\n",
    "\n",
    "    ax2.set_title('MAE')\n",
    "    ax2.set_ylabel('MAE')\n",
    "    ax2.set_xlabel('Epoch')\n",
    "\n",
    "    # Set limits for y-axes\n",
    "    ax1.set_ylim(ymin=0, ymax=200)\n",
    "    ax2.set_ylim(ymin=0, ymax=20)\n",
    "\n",
    "    # Generate legends\n",
    "    ax1.legend(['Train', 'Validation'], loc='best')\n",
    "    ax2.legend(['Train', 'Validation'], loc='best')\n",
    "\n",
    "    # Show grids\n",
    "    ax1.grid(axis=\"x\", linewidth=0.5)\n",
    "    ax1.grid(axis=\"y\", linewidth=0.5)\n",
    "\n",
    "    ax2.grid(axis=\"x\", linewidth=0.5)\n",
    "    ax2.grid(axis=\"y\", linewidth=0.5)\n",
    "\n",
    "    plt.show()"
   ]
  },
  {
   "cell_type": "code",
   "execution_count": 36,
   "metadata": {},
   "outputs": [],
   "source": [
    "def plot_loss_mse(history_opt):\n",
    "    # Setting figures\n",
    "    fig, (ax1, ax2) = plt.subplots(1, 2, figsize=(13,4))\n",
    "\n",
    "    # Create the plots\n",
    "    ax1.plot(history.history['loss'])\n",
    "    ax1.plot(history.history['val_loss'])\n",
    "\n",
    "    ax2.plot(history.history['mse'])\n",
    "    ax2.plot(history.history['val_mse'])\n",
    "\n",
    "    # Set titles and labels\n",
    "    ax1.set_title('Model loss')\n",
    "    ax1.set_ylabel('Loss')\n",
    "    ax1.set_xlabel('Epoch')\n",
    "\n",
    "    ax2.set_title('MSE')\n",
    "    ax2.set_ylabel('MSE')\n",
    "    ax2.set_xlabel('Epoch')\n",
    "\n",
    "    # Set limits for y-axes\n",
    "    ax1.set_ylim(ymin=0, ymax=20)\n",
    "    ax2.set_ylim(ymin=0, ymax=200)\n",
    "\n",
    "    # Generate legends\n",
    "    ax1.legend(['Train', 'Validation'], loc='best')\n",
    "    ax2.legend(['Train', 'Validation'], loc='best')\n",
    "\n",
    "    # Show grids\n",
    "    ax1.grid(axis=\"x\", linewidth=0.5)\n",
    "    ax1.grid(axis=\"y\", linewidth=0.5)\n",
    "\n",
    "    ax2.grid(axis=\"x\", linewidth=0.5)\n",
    "    ax2.grid(axis=\"y\", linewidth=0.5)\n",
    "\n",
    "    plt.show()"
   ]
  },
  {
   "cell_type": "code",
   "execution_count": 42,
   "metadata": {},
   "outputs": [
    {
     "name": "stdout",
     "output_type": "stream",
     "text": [
      "Optimizer: adagrad  | MAE test:  10.12 | Training time: 291.2s\n",
      "----------------------------------------\n",
      "Baseline model MAE: 6.53\n"
     ]
    }
   ],
   "source": [
    "print(f\"Optimizer: {opt_name:8s} | MAE test: {mae_test_opt:6.2f} | Training time: {training_time:.1f}s\")\n",
    "\n",
    "# Compare to baseline\n",
    "print(\"-\"*40)\n",
    "print(f\"Baseline model MAE: {mae_test_baseline:.2f}\")"
   ]
  },
  {
   "cell_type": "markdown",
   "metadata": {},
   "source": [
    "#### Neural Network vs. Baseline - Part 2\n",
    "\n",
    "Are your predictions better than those of the baseline model you evaluated at the beginning of the notebook?"
   ]
  },
  {
   "cell_type": "code",
   "execution_count": 44,
   "metadata": {},
   "outputs": [
    {
     "name": "stdout",
     "output_type": "stream",
     "text": [
      "The MAE on the test set with the rmsprop optimizer is equal to 2.97\n",
      "-----\n",
      "The MAE on the test set with the baseline model is equal to 6.53\n"
     ]
    }
   ],
   "source": [
    "# MAE on the testing set for different optimizers\n",
    "for optimizer, result in zip(['rmsprop', 'adam', 'adagrad'], results):\n",
    "    print(f\"The MAE on the test set with the {optimizer} optimizer is equal to {result:.2f}\")\n",
    "\n",
    "# MAE on the testing set for the baseline model    \n",
    "print(\"-\"*5)    \n",
    "print(f\"The MAE on the test set with the baseline model is equal to {mae_test_baseline:.2f}\")"
   ]
  },
  {
   "cell_type": "markdown",
   "metadata": {},
   "source": [
    "#### 💡Answer\n",
    "\n",
    "<details>\n",
    "    <summary>Click me</summary>\n",
    "\n",
    "You can see that the Neural Network beat the baseline when using either `adam` or `rmsprop` as an optimizer but the result was significantly worse with the `adagrad` optimizer.\n",
    "\n",
    "**👇 The advice from the Deep Learning community is the following 👇:**\n",
    "\n",
    "🔥 So far, our best-performing optimizer is `adam`. Maybe a mathematician specialized in numerical methods will find a better solver in the future but for the moment, Adam is your best friend and they have already been helping us achieve remarkable results.\n",
    "</details>"
   ]
  },
  {
   "cell_type": "markdown",
   "metadata": {},
   "source": [
    "#### Next Steps for this Challenge\n",
    "\n",
    "👩‍🎓 Do you remember the **Machine Learning > 04.Under The Hood** unit where we coded our **Gradient Descent** by choosing a specific `learning_rate`? It represents how slow/fast your algorithm learns. In other words, it controls the intensity of the change of the weights at each optimization of the NN, at each backpropagation!\n",
    "\n",
    "🚀 Well, the **solvers** in Machine Learning and the **optimizers** in Deep Learning are advanced iterative methods relying on **hyperparameters**, and the `learning_rate` is one of them!\n",
    "\n",
    "🤔 How can I control this `learning_rate`?\n",
    "\n",
    "✅ Instead of calling an optimizer with a string (\"adam\", \"rmsprop\", etc.), which uses a default value for the Learning Rate, we will call 📚 [`tf.keras.optimizers`](https://www.tensorflow.org/api_docs/python/tf/keras/optimizers) objects 📚 and tailor them to our needs.\n",
    "\n",
    "🧑🏻‍🏫 Different Learning Rates have different consequences, as shown here: \n",
    "\n",
    "<img src=\"https://wagon-public-datasets.s3-eu-west-1.amazonaws.com/06-DL/02-Optimizer-loss-and-fitting/learning_rate.png\" alt=\"Learning rate\" height=300>"
   ]
  },
  {
   "cell_type": "markdown",
   "metadata": {},
   "source": [
    "### (2.2) The Influence of the Learning Rate"
   ]
  },
  {
   "cell_type": "markdown",
   "metadata": {},
   "source": [
    "### Selecting an Optimizer with a Custom Learning Rate\n",
    "\n",
    "📚 [`tf.keras.optimizers.Adam`](https://www.tensorflow.org/api_docs/python/tf/keras/optimizers/Adam)\n",
    "\n",
    "Instead of initializing the optimizer with a string, let's initialize an optimizer manually.\n",
    "\n",
    "- Instantiate an Adam optimizer with a Learning Rate of $ \\alpha = 0.1$\n",
    "    - Keep the other parameters at their default values\n",
    "- Use this optimizer in the `compile_model` function\n",
    "- Train/fit the model\n",
    "- Plot the history\n",
    "- Evaluate your model"
   ]
  },
  {
   "cell_type": "code",
   "execution_count": 45,
   "metadata": {},
   "outputs": [
    {
     "name": "stdout",
     "output_type": "stream",
     "text": [
      "4/4 [==============================] - 0s 4ms/step - loss: 34.3614 - mae: 3.9690\n",
      "Test Mean Absolute Error with a learning rate of 0.1: 3.9690\n"
     ]
    },
    {
     "data": {
      "image/png": "[encoded data removed]",
      "text/plain": [
       "<Figure size 1300x400 with 2 Axes>"
      ]
     },
     "metadata": {},
     "output_type": "display_data"
    },
    {
     "name": "stdout",
     "output_type": "stream",
     "text": [
      "CPU times: user 7.16 s, sys: 1.72 s, total: 8.88 s\n",
      "Wall time: 6.74 s\n"
     ]
    }
   ],
   "source": [
    "%%time\n",
    "\n",
    "# 1. Instantiating the Adam optimizer with a learning rate alpha = 0.1\n",
    "adam = Adam(learning_rate=0.1)\n",
    "\n",
    "# 2. Initializing the model\n",
    "model = initialize_model()\n",
    "\n",
    "# 3. Compiling the model with the custom Adam optimizer\n",
    "model = compile_model(model, adam)\n",
    "\n",
    "# 4. Training the neural net\n",
    "es = EarlyStopping(patience = 10)\n",
    "history = model.fit(\n",
    "    X_train_scaled,\n",
    "    y_train, \n",
    "    validation_split = 0.3,\n",
    "    shuffle = True,\n",
    "    batch_size = 16, \n",
    "    epochs = 1_000,\n",
    "    callbacks = [es],\n",
    "    verbose = 0\n",
    ")\n",
    "\n",
    "# 5. Plot the history and evaluate the model\n",
    "res = model.evaluate(X_test_scaled, y_test)[1]\n",
    "res\n",
    "print(f'Test Mean Absolute Error with a learning rate of 0.1: {res:.4f}')\n",
    "plot_loss_mae(history)"
   ]
  },
  {
   "cell_type": "markdown",
   "metadata": {},
   "source": [
    "### ❓Playing with Learning Rates\n",
    "\n",
    "Now, reproduce the same plots and results but for different Learning Rates.\n",
    "\n",
    "<details>\n",
    "    <summary>Remark</summary>\n",
    "\n",
    "There is a chance that the y-axis is too large for you to visualize some results with some Learning Rates. In that case, feel free to re-write the plot function to plot only the epochs $> 10$.\n",
    "\n",
    "</details>"
   ]
  },
  {
   "cell_type": "code",
   "execution_count": 46,
   "metadata": {
    "scrolled": true
   },
   "outputs": [
    {
     "name": "stdout",
     "output_type": "stream",
     "text": [
      "4/4 [==============================] - 0s 3ms/step\n",
      "LR: 0.0001 | Test MAE:   3.08 | Training time: 141.0s\n",
      "4/4 [==============================] - 0s 3ms/step\n",
      "LR: 0.0010 | Test MAE:   3.04 | Training time: 38.5s\n",
      "4/4 [==============================] - 0s 2ms/step\n",
      "LR: 0.0100 | Test MAE:   2.93 | Training time: 13.5s\n",
      "4/4 [==============================] - 0s 2ms/step\n",
      "LR: 0.1000 | Test MAE:   3.02 | Training time: 4.6s\n",
      "4/4 [==============================] - 0s 2ms/step\n",
      "LR: 1.0000 | Test MAE:   3.83 | Training time: 3.4s\n",
      "4/4 [==============================] - 0s 2ms/step\n",
      "LR: 2.0000 | Test MAE:   6.53 | Training time: 3.3s\n"
     ]
    }
   ],
   "source": [
    "learning_rates = [0.0001, 0.001, 0.01, 0.1, 1, 2]\n",
    "results_lr = []\n",
    "\n",
    "for lr in learning_rates:\n",
    "    start_time = time.time()\n",
    "    \n",
    "    # Custom Adam with a specific LR\n",
    "    adam_custom = Adam(learning_rate=lr)\n",
    "    \n",
    "    # Initialise & compile\n",
    "    model_lr = initialize_model()\n",
    "    model_lr = compile_model(model_lr, adam_custom)\n",
    "    \n",
    "    # Fit\n",
    "    es = EarlyStopping(patience=20, restore_best_weights=True)\n",
    "    history_lr = model_lr.fit(\n",
    "        X_train_scaled,\n",
    "        y_train,\n",
    "        validation_split=0.3,\n",
    "        epochs=1000,\n",
    "        batch_size=16,\n",
    "        callbacks=[es],\n",
    "        verbose=0\n",
    "    )\n",
    "    \n",
    "    # Evaluate\n",
    "    y_pred_test_lr = model_lr.predict(X_test_scaled)\n",
    "    mae_test_lr = mean_absolute_error(y_test, y_pred_test_lr)\n",
    "    results_lr.append(mae_test_lr)\n",
    "    \n",
    "    training_time = time.time() - start_time\n",
    "    \n",
    "    print(f\"LR: {lr:6.4f} | Test MAE: {mae_test_lr:6.2f} | Training time: {training_time:.1f}s\")\n",
    "    plot_loss_mae(history_lr)  # Optional\n"
   ]
  },
  {
   "cell_type": "code",
   "execution_count": 47,
   "metadata": {},
   "outputs": [
    {
     "data": {
      "image/png": "[encoded data removed]",
      "text/plain": [
       "<Figure size 1300x400 with 2 Axes>"
      ]
     },
     "metadata": {},
     "output_type": "display_data"
    }
   ],
   "source": [
    "plot_loss_mae(history_lr)  # Optional"
   ]
  },
  {
   "cell_type": "markdown",
   "metadata": {},
   "source": [
    "## (3) The Loss\n",
    "\n",
    "---\n",
    "\n",
    "❗️It's important to clearly understand the **difference between losses and metrics**❗️\n",
    "\n",
    "- 🏋🏻‍♀️ The **Loss Functions** are computed **during the training procedure**\n",
    "    - For regression tasks, the classic Loss Functions are **(Root) Mean Squared Error** ((R)MSE), **Mean Absolute Error** (MAE), and **Mean Squared Logarithmic Error** (MSLE, as seen in the Kaggle challenge)\n",
    "    - For classification tasks, the classic Loss Functions are **Binary Crossentropy** (also known as LogLoss), **Categorical Crossentropy**, Hinge Loss, etc.\n",
    "- 🧑🏻‍🏫 The **metrics** are computed to evaluate your models, **after training them**!\n",
    "    - For regression tasks, common metrics are MSE, MAE, RMSE, Coefficient of Determination (R2), etc.\n",
    "    - For classification tasks, common metrics are Accuracy, Recall, Precision, and F1-Score\n",
    "- 👀 Notice that some metrics can also be used as Loss Functions, as long as they are differentiable! (e.g. the **MSE**)\n",
    "\n",
    "If these notions are not clear, we strongly advise reviewing **Machine Learning > 03.Performance Metrics** and **Machine Learning > 05.Model Tuning**\n",
    "\n",
    "---\n",
    "\n",
    "⏩ Alright, after this reminder, let's move on:"
   ]
  },
  {
   "cell_type": "markdown",
   "metadata": {},
   "source": [
    "### ❓Optimizing a Model with a certain Loss Function\n",
    "\n",
    "- Run the same NN, once with `mae` as the loss, and once with `mse`\n",
    "- In both cases, compare `mae_train`, `mae_val`, `mse_train`, `mse_val`"
   ]
  },
  {
   "cell_type": "code",
   "execution_count": 48,
   "metadata": {
    "tags": [
     "challengify"
    ]
   },
   "outputs": [
    {
     "name": "stdout",
     "output_type": "stream",
     "text": [
      "[MSE as loss] -> Train MAE: 2.01, Test MAE: 2.71\n",
      "[MAE as loss] -> Train MAE: 1.78, Test MAE: 2.78\n"
     ]
    }
   ],
   "source": [
    "# MSE as loss\n",
    "model_mse = initialize_model()\n",
    "model_mse.compile(loss='mse', optimizer='adam', metrics=['mae','mse'])\n",
    "history_mse = model_mse.fit(\n",
    "    X_train_scaled, y_train,\n",
    "    validation_split=0.3,\n",
    "    epochs=1000,\n",
    "    batch_size=16,\n",
    "    callbacks=[EarlyStopping(patience=20, restore_best_weights=True)],\n",
    "    verbose=0\n",
    ")\n",
    "\n",
    "# Evaluate\n",
    "mse_train_mse, mae_train_mse, _ = model_mse.evaluate(X_train_scaled, y_train, verbose=0)\n",
    "mse_val_mse, mae_val_mse, _ = model_mse.evaluate(X_test_scaled,  y_test,  verbose=0)\n",
    "\n",
    "print(f\"[MSE as loss] -> Train MAE: {mae_train_mse:.2f}, Test MAE: {mae_val_mse:.2f}\")\n",
    "\n",
    "# MAE as loss\n",
    "model_mae = initialize_model()\n",
    "model_mae.compile(loss='mae', optimizer='adam', metrics=['mae','mse'])\n",
    "history_mae = model_mae.fit(\n",
    "    X_train_scaled, y_train,\n",
    "    validation_split=0.3,\n",
    "    epochs=1000,\n",
    "    batch_size=16,\n",
    "    callbacks=[EarlyStopping(patience=20, restore_best_weights=True)],\n",
    "    verbose=0\n",
    ")\n",
    "\n",
    "# Evaluate\n",
    "mae_train_mae, _, mse_train_mae = model_mae.evaluate(X_train_scaled, y_train, verbose=0)\n",
    "mae_val_mae, _, mse_val_mae = model_mae.evaluate(X_test_scaled,  y_test,  verbose=0)\n",
    "\n",
    "print(f\"[MAE as loss] -> Train MAE: {mae_train_mae:.2f}, Test MAE: {mae_val_mae:.2f}\")\n"
   ]
  },
  {
   "cell_type": "markdown",
   "metadata": {},
   "source": [
    "### 💡Learnings\n",
    "\n",
    "🤔 When you work on this regression task, you want to achieve the lowest MAE in the testing set at the end, right? So why wouldn't we use it directly as a Loss Function that would decrease with the number of epochs? \n",
    "\n",
    "<details>\n",
    "    <summary>Answer</summary>\n",
    "\n",
    "Well, even the Deep Learning research community is still trying to answer these types of questions rigorously.\n",
    "\n",
    "One thing is sure: in Deep Learning, you will never really reach the \"global minimum\" of the true Loss Function (the one computed using your entire training set as one single batch). So, in your first model (minimizing the MAE loss), your global MAE minimum has clearly **not** been reached (otherwise you could never beat it). \n",
    "\n",
    "Why? It may well be that the minimization process of the second model has performed better. Maybe because the Loss Function \"energy map\" is \"smoother\" or more \"convex\" in the case of MSE loss? Or maybe your hyper-parameters are best suited to the MSE than to the MAE loss?\n",
    "\n",
    "</details>"
   ]
  },
  {
   "cell_type": "markdown",
   "metadata": {},
   "source": [
    "## (4)  Saving and Loading a Trained Neural Network\n",
    "\n",
    "🤯 Imagine that you trained a complex Neural Network (many layers/neurons) on a huge dataset. The parameters of your Deep Learning Model (weights and biases) are now optimized and you would like to share these weights with a teammate who wants to predict a new data point. Would you give this person your notebook for them to run it and then predict the new data point? Hell no, we have a much better solution:\n",
    "- 💾 Save the weights of the optimized Neural Network\n",
    "- 🤝 Your friend/colleague/teammate/classmate can use them to predict a new data point"
   ]
  },
  {
   "cell_type": "markdown",
   "metadata": {},
   "source": [
    "### ❓Training a Good Model\n",
    "\n",
    "- Try to reach an MAE on the testing set that is lower than 5 (_feel free to re-create the architecture and redefine your compiling parameters in this section!_)\n",
    "    - Remember: we are predicting house prices, so a mistake of less than 5.000 USD is already good in the real estate industry)\n",
    "\n",
    "- Whether you managed to reach it or not, move on to the \"Saving a Model\" section after a few attempts."
   ]
  },
  {
   "cell_type": "code",
   "execution_count": 49,
   "metadata": {
    "tags": [
     "challengify"
    ]
   },
   "outputs": [
    {
     "name": "stdout",
     "output_type": "stream",
     "text": [
      "4/4 [==============================] - 0s 4ms/step\n",
      "Final model MAE: 2.85\n"
     ]
    }
   ],
   "source": [
    "# Try a bigger architecture or different parameters to reduce MAE below ~5\n",
    "model_final = models.Sequential()\n",
    "model_final.add(layers.Dense(64, activation='relu', input_dim=13))\n",
    "model_final.add(layers.Dense(32, activation='relu'))\n",
    "model_final.add(layers.Dense(1, activation='linear'))\n",
    "\n",
    "model_final.compile(\n",
    "    loss='mse',\n",
    "    optimizer=Adam(learning_rate=0.01),\n",
    "    metrics=['mae']\n",
    ")\n",
    "\n",
    "es = EarlyStopping(patience=30, restore_best_weights=True)\n",
    "history_final = model_final.fit(\n",
    "    X_train_scaled,\n",
    "    y_train,\n",
    "    validation_split=0.3,\n",
    "    epochs=2000,\n",
    "    batch_size=16,\n",
    "    callbacks=[es],\n",
    "    verbose=0\n",
    ")\n",
    "\n",
    "y_pred_test_final = model_final.predict(X_test_scaled)\n",
    "mae_test_final = mean_absolute_error(y_test, y_pred_test_final)\n",
    "print(f\"Final model MAE: {mae_test_final:.2f}\")\n"
   ]
  },
  {
   "cell_type": "code",
   "execution_count": 57,
   "metadata": {},
   "outputs": [
    {
     "name": "stdout",
     "output_type": "stream",
     "text": [
      "\n",
      "\u001b[1m============================= test session starts ==============================\u001b[0m\n",
      "platform linux -- Python 3.10.6, pytest-7.1.3, pluggy-1.0.0 -- /home/aheggs/.pyenv/versions/3.10.6/envs/lewagon/bin/python\n",
      "cachedir: .pytest_cache\n",
      "rootdir: /home/aheggs/code/andyheggs/06-Deep-Learning/02-Optimizer-loss-and-fitting/data-finetune-your-neural-network/tests\n",
      "plugins: anyio-3.6.2, asyncio-0.19.0, typeguard-2.13.3\n",
      "asyncio: mode=strict\n",
      "\u001b[1mcollecting ... \u001b[0mcollected 1 item\n",
      "\n",
      "test_solution.py::TestSolution::test_is_score_beat_baseline \u001b[31mFAILED\u001b[0m\u001b[31m       [100%]\u001b[0m\n",
      "\n",
      "=================================== FAILURES ===================================\n",
      "\u001b[31m\u001b[1m___________________ TestSolution.test_is_score_beat_baseline ___________________\u001b[0m\n",
      "\n",
      "self = <tests.test_solution.TestSolution testMethod=test_is_score_beat_baseline>\n",
      "\n",
      "    \u001b[94mdef\u001b[39;49;00m \u001b[92mtest_is_score_beat_baseline\u001b[39;49;00m(\u001b[96mself\u001b[39;49;00m):\n",
      ">       \u001b[96mself\u001b[39;49;00m.assertLess(\u001b[96mself\u001b[39;49;00m.result.mae_test, \u001b[94m6.5\u001b[39;49;00m)\n",
      "\u001b[1m\u001b[31mE       AttributeError: 'ChallengeResult' object has no attribute 'mae_test'\u001b[0m\n",
      "\n",
      "\u001b[1m\u001b[31mtest_solution.py\u001b[0m:7: AttributeError\n",
      "=========================== short test summary info ============================\n",
      "FAILED test_solution.py::TestSolution::test_is_score_beat_baseline - Attribut...\n",
      "\u001b[31m============================== \u001b[31m\u001b[1m1 failed\u001b[0m\u001b[31m in 1.68s\u001b[0m\u001b[31m ===============================\u001b[0m\n",
      "\n",
      "\n",
      "💯 You can commit your code:\n",
      "\n",
      "\u001b[1;32mgit\u001b[39m add tests/solution.pickle\n",
      "\n",
      "\u001b[32mgit\u001b[39m commit -m \u001b[33m'Completed solution step'\u001b[39m\n",
      "\n",
      "\u001b[32mgit\u001b[39m push origin master\n",
      "\n"
     ]
    }
   ],
   "source": [
    "from nbresult import ChallengeResult\n",
    "\n",
    "result = ChallengeResult(\n",
    "    'solution',\n",
    "    mae_test_final = mae_test_final\n",
    ")\n",
    "\n",
    "result.write()\n",
    "print(result.check())"
   ]
  },
  {
   "cell_type": "markdown",
   "metadata": {},
   "source": [
    "### ❓Saving a Model\n",
    "\n",
    "📚 [`tf.keras.models.save_model`](https://www.tensorflow.org/api_docs/python/tf/keras/models/save_model)\n",
    "\n",
    "Save your model using the `.save_model(model, 'name_of_my_model')` method."
   ]
  },
  {
   "cell_type": "code",
   "execution_count": 52,
   "metadata": {
    "tags": [
     "challengify"
    ]
   },
   "outputs": [],
   "source": [
    "# Save the entire model (architecture + weights + optimiser state)\n",
    "models.save_model(model_final, 'my_boston_model.h5')"
   ]
  },
  {
   "cell_type": "markdown",
   "metadata": {},
   "source": [
    "### ❓Loading a Model\n",
    "\n",
    "📚 [`tf.keras.models.load_model`](https://www.tensorflow.org/api_docs/python/tf/keras/models/load_model)\n",
    "\n",
    "- Load the model that you've just saved using `.load_model('name_of_your_model')` and store it into a variable called `loaded_model`\n",
    "- Evaluate it on the testing data to check that it gives the same result as before"
   ]
  },
  {
   "cell_type": "code",
   "execution_count": 53,
   "metadata": {
    "tags": [
     "challengify"
    ]
   },
   "outputs": [],
   "source": [
    "from tensorflow.keras.models import load_model\n",
    "\n",
    "loaded_model = load_model('my_boston_model.h5')"
   ]
  },
  {
   "cell_type": "code",
   "execution_count": 54,
   "metadata": {
    "tags": [
     "challengify"
    ]
   },
   "outputs": [
    {
     "name": "stdout",
     "output_type": "stream",
     "text": [
      "4/4 [==============================] - 0s 4ms/step\n",
      "Loaded model's MAE: 2.85\n"
     ]
    }
   ],
   "source": [
    "y_pred_loaded = loaded_model.predict(X_test_scaled)\n",
    "mae_loaded = mean_absolute_error(y_test, y_pred_loaded)\n",
    "\n",
    "print(f\"Loaded model's MAE: {mae_loaded:.2f}\")\n",
    "assert abs(mae_test_final - mae_loaded) < 1e-6, \"MAE mismatch! Should be effectively the same.\""
   ]
  },
  {
   "cell_type": "markdown",
   "metadata": {},
   "source": [
    "## (5) (Optional) Exponential Decay\n",
    "\n",
    "❗️Warning❗️ \n",
    "\n",
    "- This section is optional and for advanced practitioners\n",
    "- The next question is not essential and can be indeed skipped as many algorithms can be run without such optimization\n",
    "\n",
    "🧑🏻‍🏫 Instead of keeping a fixed Learning Rate, you can change it from one iteration to the other, with the intuition that at first, you need a large Learning Rate to learn fast, and as the Neural Network converges and gets closer to the minimum of the Loss Function, you can decrease the value of the Learning Rate. This is called a **scheduler**. "
   ]
  },
  {
   "cell_type": "markdown",
   "metadata": {},
   "source": [
    "### ❓The Exponential Decay Scheduler\n",
    "\n",
    "Use the 📚 [Exponential Decay Scheduler](https://www.tensorflow.org/api_docs/python/tf/keras/optimizers/schedules/ExponentialDecay) 📚 in the `adam` optimizer, and run it on the previous data.\n",
    "\n",
    "Use the following parameters:\n",
    "\n",
    "```python\n",
    "initial_learning_rate = 0.1 # start with a value higher than the default Adam value (0.001)\n",
    "\n",
    "lr_schedule = ExponentialDecay(\n",
    "    # Every 2000 iterations, multiply the learning rate by 0.5\n",
    "    initial_learning_rate, decay_steps = 200, decay_rate = 0.5,\n",
    ")\n",
    "```"
   ]
  },
  {
   "cell_type": "code",
   "execution_count": 55,
   "metadata": {},
   "outputs": [
    {
     "data": {
      "text/plain": [
       "17.674999999999997"
      ]
     },
     "execution_count": 55,
     "metadata": {},
     "output_type": "execute_result"
    }
   ],
   "source": [
    "# We have approximately 18 iterations per epoch:\n",
    "#       404  observations \n",
    "#      x 70% after holding out 30% for the validation set\n",
    "#      / 16  batch size\n",
    "X_train.shape[0] * 0.7 / 16"
   ]
  },
  {
   "cell_type": "code",
   "execution_count": 56,
   "metadata": {
    "tags": [
     "challengify"
    ]
   },
   "outputs": [
    {
     "name": "stdout",
     "output_type": "stream",
     "text": [
      "4/4 [==============================] - 0s 5ms/step\n",
      "Exponential Decay Scheduler -> Test MAE: 2.92\n"
     ]
    }
   ],
   "source": [
    "initial_learning_rate = 0.1\n",
    "lr_schedule = ExponentialDecay(\n",
    "    initial_learning_rate=initial_learning_rate,\n",
    "    decay_steps=200,   # after 200 batches\n",
    "    decay_rate=0.5,    # multiply LR by 0.5\n",
    "    staircase=False     # can also try True\n",
    ")\n",
    "\n",
    "adam_exp = Adam(learning_rate=lr_schedule)\n",
    "\n",
    "model_exp = initialize_model()\n",
    "model_exp.compile(loss='mse', optimizer=adam_exp, metrics=['mae'])\n",
    "\n",
    "es = EarlyStopping(patience=20, restore_best_weights=True)\n",
    "history_exp = model_exp.fit(\n",
    "    X_train_scaled,\n",
    "    y_train,\n",
    "    validation_split=0.3,\n",
    "    epochs=1000,\n",
    "    batch_size=16,\n",
    "    callbacks=[es],\n",
    "    verbose=0\n",
    ")\n",
    "\n",
    "y_pred_exp = model_exp.predict(X_test_scaled)\n",
    "mae_exp = mean_absolute_error(y_test, y_pred_exp)\n",
    "print(f\"Exponential Decay Scheduler -> Test MAE: {mae_exp:.2f}\")\n"
   ]
  },
  {
   "cell_type": "markdown",
   "metadata": {},
   "source": [
    "## 🏁 Congratulations!\n",
    "\n",
    "💾 Do not forget to `git add/commit/push` your notebook...\n",
    "\n",
    "🚀 ... and move to the next challenge!\n",
    "\n",
    "---\n",
    "\n",
    "**Further reading after your bootcamp:**\n",
    "\n",
    "The **Boston Housing Dataset** was deprecated by Scikit-Learn for ethical reasons, and TensorFlow may also replace it in the future.\n",
    "\n",
    "A certain M. Carlisle wrote a 12-min read article called [\"Racist Data Destruction\"](https://medium.com/@docintangible/racist-data-destruction-113e3eff54a8) to investigate this problem."
   ]
  }
 ],
 "metadata": {
  "kernelspec": {
   "display_name": "Python 3 (ipykernel)",
   "language": "python",
   "name": "python3"
  },
  "language_info": {
   "codemirror_mode": {
    "name": "ipython",
    "version": 3
   },
   "file_extension": ".py",
   "mimetype": "text/x-python",
   "name": "python",
   "nbconvert_exporter": "python",
   "pygments_lexer": "ipython3",
   "version": "3.10.6"
  },
  "toc": {
   "base_numbering": 1,
   "nav_menu": {},
   "number_sections": true,
   "sideBar": true,
   "skip_h1_title": false,
   "title_cell": "Table of Contents",
   "title_sidebar": "Contents",
   "toc_cell": false,
   "toc_position": {},
   "toc_section_display": true,
   "toc_window_display": false
  }
 },
 "nbformat": 4,
 "nbformat_minor": 4
}
